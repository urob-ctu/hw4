{
 "cells": [
  {
   "cell_type": "code",
   "execution_count": 2,
   "outputs": [],
   "source": [
    "%load_ext autoreload\n",
    "%autoreload 2\n",
    "\n",
    "import numpy as np\n",
    "import torch\n",
    "from torch import nn \n",
    "# from solution import ppo_loss, value_loss"
   ],
   "metadata": {
    "collapsed": false,
    "ExecuteTime": {
     "end_time": "2023-11-30T09:51:36.674524500Z",
     "start_time": "2023-11-30T09:51:36.663524700Z"
    }
   },
   "id": "ff36817858940fd7"
  },
  {
   "cell_type": "markdown",
   "source": [
    "# Teaching a quadruped to walk  \n",
    "\n",
    "Time to try out the learning algorithms that you just implemented on a more difficult problem. The WalkerEnv implements a quadruped robot kind-of thing, see for yourself. The goal is to move in the $x$ direction as fast and as far as possible. \n",
    "\n",
    "Your goal is to implement a class ``WalkerPolicy`` with function ``determine_actions()`` just like the StochasticPolicy we used earlier to control the pendulum. Below is a template of this class, but feel free to alter it however you want. The only important thing is the ``determine_actions()`` function! \n",
    "\n",
    "After you implement it, copy ``WalkerPolicy`` into a separate file ``WalkerPolicy.py`` that you will upload to BRUTE together with the (optional) learned weights in a zip file. How the policy is implemented is up to you! You are constrained to only the libraries we used so far though, such as torch, numpy etc..\n",
    "\n",
    "You will get some free points just for uploading a working policy (irrelevant of the performance). Further 2 points will be awarded for successfully traversing a small distance in the x direction.\n",
    "\n",
    "Do mind, that the evaluation system might uses ``torch==1.12.1``."
   ],
   "metadata": {
    "collapsed": false
   },
   "id": "e6c99faf649cd52b"
  },
  {
   "cell_type": "markdown",
   "source": [
    "# Hints\n",
    "\n",
    "There is no single easy way of doing this, but here are some suggestions on what you could try to improve your policy:\n",
    "\n",
    "1) This problem is much more difficult, than balancing a pendulum. It is a good idea to use a bit larger network than for the pendulum policy.\n",
    "\n",
    "2) You can also try to use a different optimizer, such as Adam and play with the hyperparameters.\n",
    "\n",
    "3) Using a neural network to compute the normal distribution scale $\\sigma$ can lead to too much randomness in the actions (i.e. exploration). You can use a fixed $\\sigma$ instead, or replace it with a learnable ```torch.Parameter``` initialized to some small constant. Make sure, you run it through an exponential, or softplus function to ensure $\\sigma$ is positive.\n",
    "\n",
    "4) The exploration can also be reduced by penalizing the variance of the action distribution in an additional loss term. \n",
    "\n",
    "5) If you see some undesirable behaviour, you can tweak the reward function to penalize it. Even though the $x$ distance is all we care about, adding extra terms to the reward can help guide the learning process (This is known as reward shaping). Simply define a reward function mapping the state $s_{t+1}$ and action $a_t$ to a scalar reward $r_t$ and put it in the config dictionary under the key ```'reward_fcn'```. See the ```WalkerEnv``` class for the implementation of the default reward.\n",
    "\n",
    "6) Using the normal distribution on a bounded action space can lead to certain problems caused by action clipping. This can be mitigated by using a different distribution, such as the Beta distribution. See the ```torch.distributions.beta``` module for more information. (Note that Beta distribution is defined on the interval [0,1] and works better with parameters $\\alpha,\\beta \\geq 1$.)"
   ],
   "metadata": {
    "collapsed": false
   },
   "id": "d41290d3f9ccf033"
  },
  {
   "cell_type": "code",
   "execution_count": 1,
   "outputs": [],
   "source": [
    "from environment.WalkerEnv import WalkerEnv"
   ],
   "metadata": {
    "collapsed": false,
    "ExecuteTime": {
     "end_time": "2023-11-30T16:30:41.415964800Z",
     "start_time": "2023-11-30T16:30:40.816557700Z"
    }
   },
   "id": "d52d6512e1dc81e6"
  },
  {
   "cell_type": "code",
   "execution_count": 4,
   "outputs": [],
   "source": [
    "class WalkerPolicy(nn.Module):\n",
    "    def __init__(self, state_dim=29, action_dim=8):\n",
    "        super().__init__()\n",
    "        # self.load_weights()  # load learned stored network weights after initialization\n",
    "\n",
    "    # TODO: implement a determine_actions() function mapping from (N, state_dim) states into (N, action_dim) actions\n",
    "\n",
    "    def save_weights(self, path='walker_weights.pt'):\n",
    "        # helper function to save your network weights\n",
    "        torch.save(self.state_dict(), path)\n",
    "\n",
    "    def load_weights(self, path='walker_weights.pt'):\n",
    "        # helper function to load your network weights\n",
    "        self.load_state_dict(torch.load(path))"
   ],
   "metadata": {
    "collapsed": false,
    "ExecuteTime": {
     "end_time": "2023-11-30T09:51:41.714772500Z",
     "start_time": "2023-11-30T09:51:41.687744Z"
    }
   },
   "id": "1e318e36d11eb12d"
  },
  {
   "cell_type": "code",
   "execution_count": 5,
   "outputs": [
    {
     "name": "stdout",
     "output_type": "stream",
     "text": [
      "Environment ready\n"
     ]
    }
   ],
   "source": [
    "config = {'N': 1, 'vis': 1}\n",
    "env = WalkerEnv(config)"
   ],
   "metadata": {
    "collapsed": false,
    "ExecuteTime": {
     "end_time": "2023-11-30T09:51:46.270913500Z",
     "start_time": "2023-11-30T09:51:46.157914600Z"
    }
   },
   "id": "e64a34ffdb26d39b"
  },
  {
   "cell_type": "code",
   "execution_count": 13,
   "outputs": [],
   "source": [
    "obs = env.vector_reset()\n",
    "env.render()"
   ],
   "metadata": {
    "collapsed": false,
    "ExecuteTime": {
     "end_time": "2023-11-30T09:53:18.623643200Z",
     "start_time": "2023-11-30T09:53:18.600695400Z"
    }
   },
   "id": "f1159688c1501d"
  },
  {
   "cell_type": "code",
   "execution_count": null,
   "outputs": [],
   "source": [
    "obs[0, 0]  # this is the x coordinate of the robot, we want to maximize this"
   ],
   "metadata": {
    "collapsed": false,
    "is_executing": true
   },
   "id": "8017d2863ead4fbb"
  },
  {
   "cell_type": "code",
   "execution_count": 16,
   "outputs": [],
   "source": [
    "for i in range(512):\n",
    "    a = np.random.randn(1, 8)\n",
    "    obs, reward = env.vector_step(a)\n",
    "env.close()"
   ],
   "metadata": {
    "collapsed": false,
    "ExecuteTime": {
     "end_time": "2023-11-30T09:53:35.499596800Z",
     "start_time": "2023-11-30T09:53:28.639033600Z"
    }
   },
   "id": "a9eb6e91ef52c5de"
  },
  {
   "cell_type": "code",
   "execution_count": null,
   "outputs": [],
   "source": [],
   "metadata": {
    "collapsed": false
   },
   "id": "b6120ca3cad7b4b6"
  }
 ],
 "metadata": {
  "kernelspec": {
   "display_name": "Python 3",
   "language": "python",
   "name": "python3"
  },
  "language_info": {
   "codemirror_mode": {
    "name": "ipython",
    "version": 2
   },
   "file_extension": ".py",
   "mimetype": "text/x-python",
   "name": "python",
   "nbconvert_exporter": "python",
   "pygments_lexer": "ipython2",
   "version": "2.7.6"
  }
 },
 "nbformat": 4,
 "nbformat_minor": 5
}
