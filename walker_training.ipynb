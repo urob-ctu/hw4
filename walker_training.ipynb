{
 "cells": [
  {
   "cell_type": "code",
   "execution_count": null,
   "outputs": [],
   "source": [
    "import numpy as np\n",
    "import torch\n",
    "from torch import nn \n",
    "from solution import ppo_loss, value_loss"
   ],
   "metadata": {
    "collapsed": false,
    "is_executing": true
   },
   "id": "ff36817858940fd7"
  },
  {
   "cell_type": "markdown",
   "source": [
    "# Training a biped-robot to walk  \n",
    "\n",
    "Time to try out the learning algorithms that you just implemented on a more difficult problem. The WalkerEnv implements a bipedal robot kind-of thing, see for yourself. The goal is to move in the $x$ direction as fast and as far as possible. \n",
    "\n",
    "Your goal is to implement a class ``WalkerPolicy`` with function ``determine_actions()`` just like the StochasticPolicy we used earlier to control the pendulum. Below is a template of this class, but feel free to alter it however you want. The only important thing is the ``determine_actions()`` function! \n",
    "\n",
    "After you implement it, copy ``WalkerPolicy`` into a separate file ``WalkerPolicy.py`` that you will upload to BRUTE together with the (optional) learned weights in a zip file. How the policy is implemented is up to you! You are constrained to only the libraries we used so far though, such as torch, numpy etc..\n",
    "\n",
    "You will get some free points just for uploading a working policy (irrelevant of the performance). Further 2 points will be awarded for successfully traversing a small distance in the x direction.\n",
    "\n",
    "Do mind, that the evaluation system might uses ``torch==1.12.1``."
   ],
   "metadata": {
    "collapsed": false
   },
   "id": "e6c99faf649cd52b"
  },
  {
   "cell_type": "markdown",
   "source": [
    "# Hints\n",
    "\n",
    "There is no single easy way of doing this, but here are some suggestions on what you could try:\n",
    "\n",
    "1) This problem is much more difficult, than balancing a pendulum. It is a good idea to use a bit larger network than for the pendulum policy.\n",
    "\n",
    "2) You can also try to use a different optimizer, such as Adam and play with the hyperparameters.\n",
    "\n",
    "3) Using a neural network to compute the normal distribution scale $\\sigma$ can lead to too randomness in the actions. You can use a fixed $\\sigma$ instead, or replace it with a learnable ```torch.Parameter``` initialized to some small constant. Make sure, you run it through an exponential, or softplus function to ensure $\\sigma$ is positive.\n",
    "\n",
    "4) If you some undesirable behaviour, you can tweak the reward function to penalize it. Even though the $x$ distance is all we care about, adding extra terms to the reward can help guide the learning process (This is known as reward shaping). Simply define a reward function mapping the state $s_{t+1}$ and action $a_t$ to a scalar reward $r_t$ and put in in the config dictionary under the key ```'reward_fcn'```. See the ```WalkerEnv``` class for the implementation of the default reward."
   ],
   "metadata": {
    "collapsed": false
   },
   "id": "d41290d3f9ccf033"
  },
  {
   "cell_type": "code",
   "execution_count": 2,
   "outputs": [],
   "source": [
    "from environment.WalkerEnv import WalkerEnv"
   ],
   "metadata": {
    "collapsed": false,
    "ExecuteTime": {
     "end_time": "2023-11-29T12:34:53.423204100Z",
     "start_time": "2023-11-29T12:34:52.904700700Z"
    }
   },
   "id": "d52d6512e1dc81e6"
  },
  {
   "cell_type": "code",
   "execution_count": 3,
   "outputs": [],
   "source": [
    "class WalkerPolicy(nn.Module):\n",
    "    def __init__(self, state_dim=21, action_dim=4):\n",
    "        self.load_weights()  # call learned stored network weights\n",
    "\n",
    "    # TODO: implement a determine_actions() function mapping from (N, state_dim) states into (N, action_dim) actions\n",
    "\n",
    "    def save_weights(self, path='weights_path.t'):\n",
    "        torch.save(self.state_dict(), path)\n",
    "\n",
    "    def load_weights(self, path='weights_path.t'):\n",
    "        self.load_state_dict(torch.load(path))"
   ],
   "metadata": {
    "collapsed": false,
    "ExecuteTime": {
     "end_time": "2023-11-29T12:34:54.012084600Z",
     "start_time": "2023-11-29T12:34:54.001322400Z"
    }
   },
   "id": "1e318e36d11eb12d"
  },
  {
   "cell_type": "code",
   "execution_count": 4,
   "outputs": [
    {
     "name": "stdout",
     "output_type": "stream",
     "text": [
      "Environment ready\n"
     ]
    }
   ],
   "source": [
    "config = {'N': 1, 'vis': 1}\n",
    "env = WalkerEnv(config)"
   ],
   "metadata": {
    "collapsed": false,
    "ExecuteTime": {
     "end_time": "2023-11-29T12:35:53.548263100Z",
     "start_time": "2023-11-29T12:35:53.435767100Z"
    }
   },
   "id": "e64a34ffdb26d39b"
  },
  {
   "cell_type": "code",
   "execution_count": 5,
   "outputs": [],
   "source": [
    "obs = env.vector_reset()"
   ],
   "metadata": {
    "collapsed": false,
    "ExecuteTime": {
     "end_time": "2023-11-29T12:36:03.048584100Z",
     "start_time": "2023-11-29T12:36:03.022653900Z"
    }
   },
   "id": "f1159688c1501d"
  },
  {
   "cell_type": "code",
   "execution_count": 8,
   "outputs": [
    {
     "data": {
      "text/plain": "array([0., 0., 1., 1., 0., 0., 0., 0., 0., 0., 0., 0., 0., 0., 0., 0., 0.,\n       0., 0., 0., 0.], dtype=float32)"
     },
     "execution_count": 8,
     "metadata": {},
     "output_type": "execute_result"
    }
   ],
   "source": [
    "obs[0]  # this is the x coordinate of the robot, we want to maximize this"
   ],
   "metadata": {
    "collapsed": false,
    "ExecuteTime": {
     "end_time": "2023-11-29T12:36:41.758758100Z",
     "start_time": "2023-11-29T12:36:41.743965500Z"
    }
   },
   "id": "13a092f0641cd811"
  }
 ],
 "metadata": {
  "kernelspec": {
   "display_name": "Python 3",
   "language": "python",
   "name": "python3"
  },
  "language_info": {
   "codemirror_mode": {
    "name": "ipython",
    "version": 2
   },
   "file_extension": ".py",
   "mimetype": "text/x-python",
   "name": "python",
   "nbconvert_exporter": "python",
   "pygments_lexer": "ipython2",
   "version": "2.7.6"
  }
 },
 "nbformat": 4,
 "nbformat_minor": 5
}
